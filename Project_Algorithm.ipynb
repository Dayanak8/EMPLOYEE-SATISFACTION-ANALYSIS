{
 "cells": [
  {
   "cell_type": "code",
   "execution_count": 534,
   "metadata": {
    "executionInfo": {
     "elapsed": 1,
     "status": "ok",
     "timestamp": 1699246168795,
     "user": {
      "displayName": "Achyutha Shreesha",
      "userId": "05897693743315260757"
     },
     "user_tz": -330
    },
    "id": "vF5GRhJ49NP_"
   },
   "outputs": [],
   "source": [
    "#pip install plotly"
   ]
  },
  {
   "cell_type": "code",
   "execution_count": 1,
   "metadata": {
    "executionInfo": {
     "elapsed": 2370,
     "status": "ok",
     "timestamp": 1699246171151,
     "user": {
      "displayName": "Achyutha Shreesha",
      "userId": "05897693743315260757"
     },
     "user_tz": -330
    },
    "id": "w2VgFgTanR1G"
   },
   "outputs": [],
   "source": [
    "import pandas as pd\n",
    "import numpy as np\n",
    "import matplotlib.pyplot as plt\n",
    "import seaborn as sns\n",
    "#import plotly.express as px\n",
    "#from plotly.subplots import make_subplots"
   ]
  },
  {
   "cell_type": "code",
   "execution_count": 2,
   "metadata": {
    "executionInfo": {
     "elapsed": 555,
     "status": "ok",
     "timestamp": 1699246171692,
     "user": {
      "displayName": "Achyutha Shreesha",
      "userId": "05897693743315260757"
     },
     "user_tz": -330
    },
    "id": "JYPFoGi-nlIS"
   },
   "outputs": [],
   "source": [
    "#Read Dataset\n",
    "df = pd.read_excel(\"employee.xlsx\")"
   ]
  },
  {
   "cell_type": "code",
   "execution_count": 3,
   "metadata": {
    "colab": {
     "base_uri": "https://localhost:8080/",
     "height": 791
    },
    "executionInfo": {
     "elapsed": 21,
     "status": "ok",
     "timestamp": 1699246171695,
     "user": {
      "displayName": "Achyutha Shreesha",
      "userId": "05897693743315260757"
     },
     "user_tz": -330
    },
    "id": "xEVIJ9wG3JWl",
    "outputId": "acce4fa3-6cc1-4c95-b5a6-6588ccc31879"
   },
   "outputs": [
    {
     "data": {
      "text/html": [
       "<div>\n",
       "<style scoped>\n",
       "    .dataframe tbody tr th:only-of-type {\n",
       "        vertical-align: middle;\n",
       "    }\n",
       "\n",
       "    .dataframe tbody tr th {\n",
       "        vertical-align: top;\n",
       "    }\n",
       "\n",
       "    .dataframe thead th {\n",
       "        text-align: right;\n",
       "    }\n",
       "</style>\n",
       "<table border=\"1\" class=\"dataframe\">\n",
       "  <thead>\n",
       "    <tr style=\"text-align: right;\">\n",
       "      <th></th>\n",
       "      <th>Age</th>\n",
       "      <th>Gender</th>\n",
       "      <th>Education Qualification</th>\n",
       "      <th>Department</th>\n",
       "      <th>Job Role</th>\n",
       "      <th>Salary category</th>\n",
       "      <th>How long have you been working here?</th>\n",
       "      <th>Do you think company give concern for people or production ?</th>\n",
       "      <th>Do you face any stress in your organization</th>\n",
       "      <th>How will you rate the drinking water facility in your organisation ?</th>\n",
       "      <th>How will you rate the transportation facility in your organisation?</th>\n",
       "      <th>How much are you satisfied with your salary?</th>\n",
       "      <th>Does your job match with your level of education attainment?</th>\n",
       "      <th>How much are you satisfied with promotion policy adopted in the organization?</th>\n",
       "      <th>How much are you satisfied with the working hours of your job?</th>\n",
       "      <th>How much are you satisfied with your organization providing leave salary?</th>\n",
       "      <th>How much are you satisfied with training and other educational programs conducted by the organization?</th>\n",
       "      <th>How will you rate the cleanliness in your organization?</th>\n",
       "    </tr>\n",
       "  </thead>\n",
       "  <tbody>\n",
       "    <tr>\n",
       "      <th>0</th>\n",
       "      <td>46</td>\n",
       "      <td>Male</td>\n",
       "      <td>Degree</td>\n",
       "      <td>Production</td>\n",
       "      <td>Chemist</td>\n",
       "      <td>15000-25000</td>\n",
       "      <td>6 Years</td>\n",
       "      <td>Production</td>\n",
       "      <td>No</td>\n",
       "      <td>Good</td>\n",
       "      <td>Satisfied</td>\n",
       "      <td>Netural</td>\n",
       "      <td>Yes</td>\n",
       "      <td>2</td>\n",
       "      <td>Satisfied</td>\n",
       "      <td>2</td>\n",
       "      <td>Satisfied</td>\n",
       "      <td>Medium</td>\n",
       "    </tr>\n",
       "    <tr>\n",
       "      <th>1</th>\n",
       "      <td>39</td>\n",
       "      <td>Male</td>\n",
       "      <td>Degree</td>\n",
       "      <td>Production</td>\n",
       "      <td>Clerk</td>\n",
       "      <td>25000-35000</td>\n",
       "      <td>8 years</td>\n",
       "      <td>Production</td>\n",
       "      <td>No</td>\n",
       "      <td>Average</td>\n",
       "      <td>Satisfied</td>\n",
       "      <td>Netural</td>\n",
       "      <td>No</td>\n",
       "      <td>3</td>\n",
       "      <td>Satisfied</td>\n",
       "      <td>3</td>\n",
       "      <td>Satisfied</td>\n",
       "      <td>Medium</td>\n",
       "    </tr>\n",
       "    <tr>\n",
       "      <th>2</th>\n",
       "      <td>55</td>\n",
       "      <td>Male</td>\n",
       "      <td>other</td>\n",
       "      <td>Marketing</td>\n",
       "      <td>Senior Executive manger</td>\n",
       "      <td>35000-45000</td>\n",
       "      <td>12 years</td>\n",
       "      <td>Production</td>\n",
       "      <td>Yes</td>\n",
       "      <td>Good</td>\n",
       "      <td>Highly Satisfied</td>\n",
       "      <td>Satisfied</td>\n",
       "      <td>Yes</td>\n",
       "      <td>4</td>\n",
       "      <td>Neutral</td>\n",
       "      <td>3</td>\n",
       "      <td>Satisfied</td>\n",
       "      <td>High</td>\n",
       "    </tr>\n",
       "    <tr>\n",
       "      <th>3</th>\n",
       "      <td>28</td>\n",
       "      <td>Male</td>\n",
       "      <td>Pg</td>\n",
       "      <td>Marketing</td>\n",
       "      <td>Junior Executive manger</td>\n",
       "      <td>25000-35000</td>\n",
       "      <td>2 Years</td>\n",
       "      <td>Production</td>\n",
       "      <td>No</td>\n",
       "      <td>Average</td>\n",
       "      <td>Satisfied</td>\n",
       "      <td>Netural</td>\n",
       "      <td>Yes</td>\n",
       "      <td>3</td>\n",
       "      <td>Neutral</td>\n",
       "      <td>3</td>\n",
       "      <td>Satisfied</td>\n",
       "      <td>Medium</td>\n",
       "    </tr>\n",
       "    <tr>\n",
       "      <th>4</th>\n",
       "      <td>31</td>\n",
       "      <td>Male</td>\n",
       "      <td>SSLC</td>\n",
       "      <td>Production</td>\n",
       "      <td>Operator</td>\n",
       "      <td>15000-25000</td>\n",
       "      <td>6 years</td>\n",
       "      <td>Production</td>\n",
       "      <td>No</td>\n",
       "      <td>Average</td>\n",
       "      <td>Satisfied</td>\n",
       "      <td>Netural</td>\n",
       "      <td>Yes</td>\n",
       "      <td>2</td>\n",
       "      <td>Satisfied</td>\n",
       "      <td>2</td>\n",
       "      <td>Netural</td>\n",
       "      <td>Medium</td>\n",
       "    </tr>\n",
       "    <tr>\n",
       "      <th>...</th>\n",
       "      <td>...</td>\n",
       "      <td>...</td>\n",
       "      <td>...</td>\n",
       "      <td>...</td>\n",
       "      <td>...</td>\n",
       "      <td>...</td>\n",
       "      <td>...</td>\n",
       "      <td>...</td>\n",
       "      <td>...</td>\n",
       "      <td>...</td>\n",
       "      <td>...</td>\n",
       "      <td>...</td>\n",
       "      <td>...</td>\n",
       "      <td>...</td>\n",
       "      <td>...</td>\n",
       "      <td>...</td>\n",
       "      <td>...</td>\n",
       "      <td>...</td>\n",
       "    </tr>\n",
       "    <tr>\n",
       "      <th>116</th>\n",
       "      <td>42</td>\n",
       "      <td>Female</td>\n",
       "      <td>other</td>\n",
       "      <td>Production</td>\n",
       "      <td>General worker</td>\n",
       "      <td>25000-35000</td>\n",
       "      <td>1 Years</td>\n",
       "      <td>People</td>\n",
       "      <td>No</td>\n",
       "      <td>Average</td>\n",
       "      <td>Satisfied</td>\n",
       "      <td>Netural</td>\n",
       "      <td>Yes</td>\n",
       "      <td>2</td>\n",
       "      <td>Neutral</td>\n",
       "      <td>4</td>\n",
       "      <td>Satisfied</td>\n",
       "      <td>Medium</td>\n",
       "    </tr>\n",
       "    <tr>\n",
       "      <th>117</th>\n",
       "      <td>38</td>\n",
       "      <td>Female</td>\n",
       "      <td>SSLC</td>\n",
       "      <td>Production</td>\n",
       "      <td>Worker</td>\n",
       "      <td>25000-35000</td>\n",
       "      <td>3 Years</td>\n",
       "      <td>Production</td>\n",
       "      <td>No</td>\n",
       "      <td>Good</td>\n",
       "      <td>Satisfied</td>\n",
       "      <td>Highly Satisfied</td>\n",
       "      <td>Yes</td>\n",
       "      <td>2</td>\n",
       "      <td>Satisfied</td>\n",
       "      <td>3</td>\n",
       "      <td>Satisfied</td>\n",
       "      <td>Medium</td>\n",
       "    </tr>\n",
       "    <tr>\n",
       "      <th>118</th>\n",
       "      <td>46</td>\n",
       "      <td>Male</td>\n",
       "      <td>SSLC</td>\n",
       "      <td>Production</td>\n",
       "      <td>General worker</td>\n",
       "      <td>25000-35000</td>\n",
       "      <td>2 Years</td>\n",
       "      <td>People</td>\n",
       "      <td>No</td>\n",
       "      <td>Good</td>\n",
       "      <td>Satisfied</td>\n",
       "      <td>Satisfied</td>\n",
       "      <td>No</td>\n",
       "      <td>3</td>\n",
       "      <td>Neutral</td>\n",
       "      <td>3</td>\n",
       "      <td>Satisfied</td>\n",
       "      <td>Medium</td>\n",
       "    </tr>\n",
       "    <tr>\n",
       "      <th>119</th>\n",
       "      <td>36</td>\n",
       "      <td>Female</td>\n",
       "      <td>Degree</td>\n",
       "      <td>Production</td>\n",
       "      <td>General Worker</td>\n",
       "      <td>35000-45000</td>\n",
       "      <td>6 yeras</td>\n",
       "      <td>Production</td>\n",
       "      <td>No</td>\n",
       "      <td>Average</td>\n",
       "      <td>Satisfied</td>\n",
       "      <td>Netural</td>\n",
       "      <td>No</td>\n",
       "      <td>1</td>\n",
       "      <td>Neutral</td>\n",
       "      <td>2</td>\n",
       "      <td>Satisfied</td>\n",
       "      <td>Medium</td>\n",
       "    </tr>\n",
       "    <tr>\n",
       "      <th>120</th>\n",
       "      <td>29</td>\n",
       "      <td>Female</td>\n",
       "      <td>Degree</td>\n",
       "      <td>Human Resource</td>\n",
       "      <td>Receptionist</td>\n",
       "      <td>15000-25000</td>\n",
       "      <td>2 years</td>\n",
       "      <td>People</td>\n",
       "      <td>No</td>\n",
       "      <td>Good</td>\n",
       "      <td>Satisfied</td>\n",
       "      <td>Netural</td>\n",
       "      <td>No</td>\n",
       "      <td>2</td>\n",
       "      <td>Satisfied</td>\n",
       "      <td>2</td>\n",
       "      <td>Satisfied</td>\n",
       "      <td>High</td>\n",
       "    </tr>\n",
       "  </tbody>\n",
       "</table>\n",
       "<p>121 rows × 18 columns</p>\n",
       "</div>"
      ],
      "text/plain": [
       "     Age Gender  Education Qualification       Department  \\\n",
       "0     46    Male                   Degree      Production   \n",
       "1     39    Male                   Degree      Production   \n",
       "2     55    Male                    other       Marketing   \n",
       "3     28    Male                       Pg       Marketing   \n",
       "4     31    Male                     SSLC      Production   \n",
       "..   ...     ...                      ...             ...   \n",
       "116   42  Female                    other      Production   \n",
       "117   38  Female                     SSLC      Production   \n",
       "118   46    Male                     SSLC      Production   \n",
       "119   36  Female                   Degree      Production   \n",
       "120   29  Female                   Degree  Human Resource   \n",
       "\n",
       "                    Job Role Salary category   \\\n",
       "0                    Chemist      15000-25000   \n",
       "1                      Clerk      25000-35000   \n",
       "2    Senior Executive manger      35000-45000   \n",
       "3    Junior Executive manger      25000-35000   \n",
       "4                   Operator      15000-25000   \n",
       "..                       ...              ...   \n",
       "116           General worker      25000-35000   \n",
       "117                   Worker      25000-35000   \n",
       "118           General worker      25000-35000   \n",
       "119           General Worker      35000-45000   \n",
       "120             Receptionist      15000-25000   \n",
       "\n",
       "     How long have you been working here?  \\\n",
       "0                                 6 Years   \n",
       "1                                 8 years   \n",
       "2                                12 years   \n",
       "3                                 2 Years   \n",
       "4                                 6 years   \n",
       "..                                    ...   \n",
       "116                               1 Years   \n",
       "117                               3 Years   \n",
       "118                               2 Years   \n",
       "119                               6 yeras   \n",
       "120                               2 years   \n",
       "\n",
       "    Do you think company give concern for people or production ?  \\\n",
       "0                                           Production             \n",
       "1                                           Production             \n",
       "2                                           Production             \n",
       "3                                           Production             \n",
       "4                                           Production             \n",
       "..                                                 ...             \n",
       "116                                             People             \n",
       "117                                         Production             \n",
       "118                                             People             \n",
       "119                                         Production             \n",
       "120                                             People             \n",
       "\n",
       "     Do you face any stress in your organization  \\\n",
       "0                                             No   \n",
       "1                                             No   \n",
       "2                                            Yes   \n",
       "3                                             No   \n",
       "4                                             No   \n",
       "..                                           ...   \n",
       "116                                           No   \n",
       "117                                           No   \n",
       "118                                           No   \n",
       "119                                           No   \n",
       "120                                           No   \n",
       "\n",
       "     How will you rate the drinking water facility in your organisation ?  \\\n",
       "0                                                 Good                      \n",
       "1                                              Average                      \n",
       "2                                                 Good                      \n",
       "3                                              Average                      \n",
       "4                                              Average                      \n",
       "..                                                 ...                      \n",
       "116                                            Average                      \n",
       "117                                               Good                      \n",
       "118                                               Good                      \n",
       "119                                            Average                      \n",
       "120                                               Good                      \n",
       "\n",
       "    How will you rate the transportation facility in your organisation?  \\\n",
       "0                                            Satisfied                    \n",
       "1                                            Satisfied                    \n",
       "2                                     Highly Satisfied                    \n",
       "3                                            Satisfied                    \n",
       "4                                            Satisfied                    \n",
       "..                                                 ...                    \n",
       "116                                          Satisfied                    \n",
       "117                                          Satisfied                    \n",
       "118                                          Satisfied                    \n",
       "119                                          Satisfied                    \n",
       "120                                          Satisfied                    \n",
       "\n",
       "     How much are you satisfied with your salary?  \\\n",
       "0                                         Netural   \n",
       "1                                         Netural   \n",
       "2                                       Satisfied   \n",
       "3                                         Netural   \n",
       "4                                         Netural   \n",
       "..                                            ...   \n",
       "116                                       Netural   \n",
       "117                              Highly Satisfied   \n",
       "118                                     Satisfied   \n",
       "119                                       Netural   \n",
       "120                                       Netural   \n",
       "\n",
       "     Does your job match with your level of education attainment?  \\\n",
       "0                                                  Yes              \n",
       "1                                                   No              \n",
       "2                                                  Yes              \n",
       "3                                                  Yes              \n",
       "4                                                  Yes              \n",
       "..                                                 ...              \n",
       "116                                                Yes              \n",
       "117                                                Yes              \n",
       "118                                                 No              \n",
       "119                                                 No              \n",
       "120                                                 No              \n",
       "\n",
       "      How much are you satisfied with promotion policy adopted in the organization?  \\\n",
       "0                                                    2                                \n",
       "1                                                    3                                \n",
       "2                                                    4                                \n",
       "3                                                    3                                \n",
       "4                                                    2                                \n",
       "..                                                 ...                                \n",
       "116                                                  2                                \n",
       "117                                                  2                                \n",
       "118                                                  3                                \n",
       "119                                                  1                                \n",
       "120                                                  2                                \n",
       "\n",
       "     How much are you satisfied with the working hours of your job?  \\\n",
       "0                                            Satisfied                \n",
       "1                                            Satisfied                \n",
       "2                                              Neutral                \n",
       "3                                              Neutral                \n",
       "4                                            Satisfied                \n",
       "..                                                 ...                \n",
       "116                                            Neutral                \n",
       "117                                          Satisfied                \n",
       "118                                            Neutral                \n",
       "119                                            Neutral                \n",
       "120                                          Satisfied                \n",
       "\n",
       "      How much are you satisfied with your organization providing leave salary?  \\\n",
       "0                                                    2                            \n",
       "1                                                    3                            \n",
       "2                                                    3                            \n",
       "3                                                    3                            \n",
       "4                                                    2                            \n",
       "..                                                 ...                            \n",
       "116                                                  4                            \n",
       "117                                                  3                            \n",
       "118                                                  3                            \n",
       "119                                                  2                            \n",
       "120                                                  2                            \n",
       "\n",
       "     How much are you satisfied with training and other educational programs conducted by the organization?  \\\n",
       "0                                            Satisfied                                                        \n",
       "1                                            Satisfied                                                        \n",
       "2                                            Satisfied                                                        \n",
       "3                                            Satisfied                                                        \n",
       "4                                              Netural                                                        \n",
       "..                                                 ...                                                        \n",
       "116                                          Satisfied                                                        \n",
       "117                                          Satisfied                                                        \n",
       "118                                          Satisfied                                                        \n",
       "119                                          Satisfied                                                        \n",
       "120                                          Satisfied                                                        \n",
       "\n",
       "     How will you rate the cleanliness in your organization?  \n",
       "0                                               Medium        \n",
       "1                                               Medium        \n",
       "2                                                 High        \n",
       "3                                               Medium        \n",
       "4                                               Medium        \n",
       "..                                                 ...        \n",
       "116                                             Medium        \n",
       "117                                             Medium        \n",
       "118                                             Medium        \n",
       "119                                             Medium        \n",
       "120                                               High        \n",
       "\n",
       "[121 rows x 18 columns]"
      ]
     },
     "execution_count": 3,
     "metadata": {},
     "output_type": "execute_result"
    }
   ],
   "source": [
    "data=df.drop(['Name'], axis=1)\n",
    "data"
   ]
  },
  {
   "cell_type": "code",
   "execution_count": 4,
   "metadata": {
    "executionInfo": {
     "elapsed": 27,
     "status": "ok",
     "timestamp": 1699246172341,
     "user": {
      "displayName": "Achyutha Shreesha",
      "userId": "05897693743315260757"
     },
     "user_tz": -330
    },
    "id": "-JZTg6aTrwzr"
   },
   "outputs": [],
   "source": [
    "data = data.rename(columns = {\" How long have you been working here?\": \"Experience\",\n",
    "                                  \"Do you think company give concern for people or production ?\":\"Company_concern\",\n",
    "                                  \" Do you face any stress in your organization\":\"Face_stress\",\n",
    "                                  \" How will you rate the drinking water facility in your organisation ?\":\"Rate_drinking_water_facility\",\n",
    "                                  \"How will you rate the transportation facility in your organisation?\":\"Rate_transportation_facility\",\n",
    "                                  \" How much are you satisfied with your salary?\":\"Satisfacation_of_salary\",\n",
    "                                  \" Does your job match with your level of education attainment?\":\"Job_match_with_level_of_education attainment\",\n",
    "                                  \" How much are you satisfied with promotion policy adopted in the organization?\":\"Satisfacation_ promotion_policy\",\n",
    "                                  \" How much are you satisfied with the working hours of your job?\":\"Satisfacation_of_working_hours\",\n",
    "                                  \" How much are you satisfied with your organization providing leave salary?\":\"Satisfacation_of_leave_salary\",\n",
    "                                  \" How much are you satisfied with training and other educational programs conducted by the organization?\":\"Satisfacation_of_training_and_educational_programs\",\n",
    "                                  \" How will you rate the cleanliness in your organization?\":\"Rate_cleanliness \"})"
   ]
  },
  {
   "cell_type": "code",
   "execution_count": 5,
   "metadata": {
    "executionInfo": {
     "elapsed": 26,
     "status": "ok",
     "timestamp": 1699246172341,
     "user": {
      "displayName": "Achyutha Shreesha",
      "userId": "05897693743315260757"
     },
     "user_tz": -330
    },
    "id": "UgwtOxU741uF"
   },
   "outputs": [],
   "source": [
    "new_data = data\n"
   ]
  },
  {
   "cell_type": "code",
   "execution_count": 6,
   "metadata": {
    "executionInfo": {
     "elapsed": 29,
     "status": "ok",
     "timestamp": 1699246172344,
     "user": {
      "displayName": "Achyutha Shreesha",
      "userId": "05897693743315260757"
     },
     "user_tz": -330
    },
    "id": "foF_D55XYiax"
   },
   "outputs": [],
   "source": [
    "data=data.replace(\"general worker\",\"General Worker\")\n",
    "data=data.replace(\"worker\",\"General Worker\")\n",
    "data=data.replace(\"Worker\",\"General Worker\")\n",
    "data=data.replace(\"clerk\",\"Clerk\")\n",
    "data=data.replace(\"chemist\",\"Chemist\")\n",
    "data=data.replace(\"2 years\",\"2 Years\")\n",
    "data=data.replace(\"6 years\",\"6 Years\")\n",
    "data=data.replace(\"3 yr\",\"3 Years\")\n",
    "data=data.replace(\"6 yeras\",\"6 Years\")\n",
    "data=data.replace(\"12 years\",\"12 Years\")\n",
    "data=data.replace(\"8 years\",\"8 Years\")\n",
    "data=data.replace(\"1\",\"1 Years\")\n",
    "data=data.replace(\"2 \",\"2 Years\")\n"
   ]
  },
  {
   "cell_type": "code",
   "execution_count": 7,
   "metadata": {
    "executionInfo": {
     "elapsed": 29,
     "status": "ok",
     "timestamp": 1699246172345,
     "user": {
      "displayName": "Achyutha Shreesha",
      "userId": "05897693743315260757"
     },
     "user_tz": -330
    },
    "id": "r1mKlBz0y040"
   },
   "outputs": [],
   "source": [
    "from sklearn.preprocessing import LabelEncoder\n",
    "le= LabelEncoder()\n",
    "new_data['Face_stress']=le.fit_transform(new_data['Face_stress'])\n",
    "new_data['Gender ']=le.fit_transform(new_data['Gender '])\n",
    "new_data['Company_concern']=le.fit_transform(new_data['Company_concern'])\n",
    "new_data['Rate_drinking_water_facility']=le.fit_transform(new_data['Rate_drinking_water_facility'])\n",
    "new_data['Rate_transportation_facility']=le.fit_transform(new_data['Rate_transportation_facility'])\n",
    "new_data['Satisfacation_of_salary']=le.fit_transform(new_data['Satisfacation_of_salary'])\n",
    "new_data['Job_match_with_level_of_education attainment']=le.fit_transform(new_data['Job_match_with_level_of_education attainment'])\n",
    "new_data['Satisfacation_of_working_hours']=le.fit_transform(new_data['Satisfacation_of_working_hours'])\n",
    "new_data['Satisfacation_of_training_and_educational_programs']=le.fit_transform(new_data['Satisfacation_of_training_and_educational_programs'])\n",
    "new_data['Rate_cleanliness ']=le.fit_transform(new_data['Rate_cleanliness '])\n",
    "new_data['Department']=le.fit_transform(new_data['Department'])\n"
   ]
  },
  {
   "cell_type": "code",
   "execution_count": 8,
   "metadata": {},
   "outputs": [
    {
     "name": "stdout",
     "output_type": "stream",
     "text": [
      "Requirement already satisfied: xgboost in c:\\users\\dayana\\anaconda3\\lib\\site-packages (2.0.1)\n",
      "Requirement already satisfied: numpy in c:\\users\\dayana\\anaconda3\\lib\\site-packages (from xgboost) (1.24.3)\n",
      "Requirement already satisfied: scipy in c:\\users\\dayana\\anaconda3\\lib\\site-packages (from xgboost) (1.11.1)\n",
      "Note: you may need to restart the kernel to use updated packages.\n"
     ]
    }
   ],
   "source": [
    "pip install xgboost"
   ]
  },
  {
   "cell_type": "markdown",
   "metadata": {
    "id": "-5LLI9MvMSs1"
   },
   "source": [
    "# Algotithm implementation"
   ]
  },
  {
   "cell_type": "markdown",
   "metadata": {
    "id": "frOb17uIv_yk"
   },
   "source": [
    "# New algorithms"
   ]
  },
  {
   "cell_type": "markdown",
   "metadata": {
    "id": "zX9pcmHExoVe"
   },
   "source": [
    "**SGDClassifier**"
   ]
  },
  {
   "cell_type": "code",
   "execution_count": 9,
   "metadata": {
    "colab": {
     "base_uri": "https://localhost:8080/"
    },
    "executionInfo": {
     "elapsed": 8,
     "status": "ok",
     "timestamp": 1699246235461,
     "user": {
      "displayName": "Achyutha Shreesha",
      "userId": "05897693743315260757"
     },
     "user_tz": -330
    },
    "id": "oT8hBx-swHx2",
    "outputId": "7ef33bf3-ebd8-4e91-ea6f-c144f360b056"
   },
   "outputs": [
    {
     "name": "stdout",
     "output_type": "stream",
     "text": [
      "0.3333333333333333\n"
     ]
    }
   ],
   "source": [
    "from sklearn.linear_model import SGDClassifier\n",
    "c = SGDClassifier()\n",
    "\n",
    "X= np.array( new_data['Face_stress'])\n",
    "y= np.array( new_data['Satisfacation_of_salary'] )\n",
    "from sklearn.model_selection import train_test_split\n",
    "X_train, X_test, y_train, y_test = train_test_split(X, y, test_size=6, random_state=0)\n",
    "Alg3 =c.fit(X_train.reshape(-1,1), y_train)\n",
    "Accuracy3 = c.score(X_test.reshape(-1, 1),y_test)\n",
    "print(Accuracy3)"
   ]
  },
  {
   "cell_type": "markdown",
   "metadata": {
    "id": "QKbJ5u5pxbe9"
   },
   "source": [
    " **AdaBoostClassifier**"
   ]
  },
  {
   "cell_type": "code",
   "execution_count": 10,
   "metadata": {
    "colab": {
     "base_uri": "https://localhost:8080/"
    },
    "executionInfo": {
     "elapsed": 16,
     "status": "ok",
     "timestamp": 1699246180091,
     "user": {
      "displayName": "Achyutha Shreesha",
      "userId": "05897693743315260757"
     },
     "user_tz": -330
    },
    "id": "mQl9ojdewF8H",
    "outputId": "60fb87fa-8158-4c16-a40c-7883d13e0506"
   },
   "outputs": [
    {
     "name": "stdout",
     "output_type": "stream",
     "text": [
      "0.5714285714285714\n"
     ]
    }
   ],
   "source": [
    "from sklearn.ensemble import AdaBoostClassifier\n",
    "b = AdaBoostClassifier()\n",
    "\n",
    "X= np.array( new_data['Face_stress'])\n",
    "y= np.array( new_data['Satisfacation_of_salary'] )\n",
    "from sklearn.model_selection import train_test_split\n",
    "X_train, X_test, y_train, y_test = train_test_split(X, y, test_size=0.05, random_state=0)\n",
    "Alg2 = b.fit(X_train.reshape(-1, 1),y_train)\n",
    "Accuracy2 = b.score(X_test.reshape(-1, 1),y_test)\n",
    "print(Accuracy2)"
   ]
  },
  {
   "cell_type": "markdown",
   "metadata": {
    "id": "6cUEyzAtxssr"
   },
   "source": [
    "**CalibratedClassifierCV**"
   ]
  },
  {
   "cell_type": "code",
   "execution_count": 11,
   "metadata": {
    "colab": {
     "base_uri": "https://localhost:8080/"
    },
    "executionInfo": {
     "elapsed": 566,
     "status": "ok",
     "timestamp": 1699246238980,
     "user": {
      "displayName": "Achyutha Shreesha",
      "userId": "05897693743315260757"
     },
     "user_tz": -330
    },
    "id": "Rxi-iPStwH1Y",
    "outputId": "38b9db9e-8620-4b27-e77f-193152aa4661"
   },
   "outputs": [
    {
     "name": "stdout",
     "output_type": "stream",
     "text": [
      "0.5714285714285714\n"
     ]
    },
    {
     "name": "stderr",
     "output_type": "stream",
     "text": [
      "C:\\Users\\dayana\\anaconda3\\Lib\\site-packages\\sklearn\\model_selection\\_split.py:725: UserWarning: The least populated class in y has only 4 members, which is less than n_splits=5.\n",
      "  warnings.warn(\n"
     ]
    }
   ],
   "source": [
    "from sklearn.calibration import CalibratedClassifierCV\n",
    "d = CalibratedClassifierCV()\n",
    "\n",
    "X= np.array( new_data['Face_stress'])\n",
    "y= np.array( new_data['Satisfacation_of_salary'] )\n",
    "from sklearn.model_selection import train_test_split\n",
    "X_train, X_test, y_train, y_test = train_test_split(X, y, test_size=0.05, random_state=0)\n",
    "Alg4 = d.fit(X_train.reshape(-1, 1),y_train)\n",
    "Accuracy4 = d.score(X_test.reshape(-1, 1),y_test)\n",
    "print(Accuracy4)"
   ]
  },
  {
   "cell_type": "markdown",
   "metadata": {
    "id": "XUZ3JRdhxvas"
   },
   "source": [
    "**OneVsRestClassifier**"
   ]
  },
  {
   "cell_type": "code",
   "execution_count": 12,
   "metadata": {
    "colab": {
     "base_uri": "https://localhost:8080/"
    },
    "executionInfo": {
     "elapsed": 517,
     "status": "ok",
     "timestamp": 1699246242693,
     "user": {
      "displayName": "Achyutha Shreesha",
      "userId": "05897693743315260757"
     },
     "user_tz": -330
    },
    "id": "TLezcvUtwul1",
    "outputId": "188fdf5d-103f-4c85-fe95-65786b1c17ea"
   },
   "outputs": [
    {
     "name": "stdout",
     "output_type": "stream",
     "text": [
      "0.5714285714285714\n"
     ]
    }
   ],
   "source": [
    "from sklearn.multiclass import OneVsRestClassifier\n",
    "from sklearn.linear_model import SGDClassifier\n",
    "e= OneVsRestClassifier(SGDClassifier())\n",
    "\n",
    "X= np.array( new_data['Face_stress'])\n",
    "y= np.array( new_data['Satisfacation_of_salary'] )\n",
    "from sklearn.model_selection import train_test_split\n",
    "X_train, X_test, y_train, y_test = train_test_split(X, y, test_size=0.05, random_state=0)\n",
    "Alg5 = e.fit(X_train.reshape(-1, 1),y_train)\n",
    "Accuracy5 = e.score(X_test.reshape(-1, 1),y_test)\n",
    "print(Accuracy5)"
   ]
  },
  {
   "cell_type": "code",
   "execution_count": null,
   "metadata": {},
   "outputs": [],
   "source": []
  },
  {
   "cell_type": "code",
   "execution_count": 13,
   "metadata": {
    "colab": {
     "base_uri": "https://localhost:8080/"
    },
    "executionInfo": {
     "elapsed": 1491,
     "status": "ok",
     "timestamp": 1699246253183,
     "user": {
      "displayName": "Achyutha Shreesha",
      "userId": "05897693743315260757"
     },
     "user_tz": -330
    },
    "id": "VyftMeDQ9NQg",
    "outputId": "08c6c09d-3655-4afa-9edc-89a21ffd3eb7"
   },
   "outputs": [
    {
     "name": "stdout",
     "output_type": "stream",
     "text": [
      "0.42857142857142855\n"
     ]
    }
   ],
   "source": [
    "###  XGBClassifier\n",
    "\n",
    "\n",
    "from xgboost.sklearn import XGBClassifier\n",
    "a = XGBClassifier()\n",
    "X= np.array( new_data['Face_stress'])\n",
    "y= np.array( new_data['Satisfacation_of_salary'] )\n",
    "from sklearn.model_selection import train_test_split\n",
    "X_train, X_test, y_train, y_test = train_test_split(X, y, test_size=0.05, random_state=1)\n",
    "y_train = le.fit_transform(y_train)\n",
    "Alg1 = a.fit(X_train.reshape(-1,1),y_train)\n",
    "y_Pre = a.predict(X_test.reshape(-1,1))\n",
    "Accuracy1 = a.score(X_test.reshape(-1, 1),y_test)\n",
    "print(Accuracy1)"
   ]
  },
  {
   "cell_type": "code",
   "execution_count": null,
   "metadata": {},
   "outputs": [],
   "source": []
  },
  {
   "cell_type": "code",
   "execution_count": null,
   "metadata": {},
   "outputs": [],
   "source": []
  },
  {
   "cell_type": "code",
   "execution_count": null,
   "metadata": {},
   "outputs": [],
   "source": []
  }
 ],
 "metadata": {
  "colab": {
   "provenance": []
  },
  "kernelspec": {
   "display_name": "Python 3 (ipykernel)",
   "language": "python",
   "name": "python3"
  },
  "language_info": {
   "codemirror_mode": {
    "name": "ipython",
    "version": 3
   },
   "file_extension": ".py",
   "mimetype": "text/x-python",
   "name": "python",
   "nbconvert_exporter": "python",
   "pygments_lexer": "ipython3",
   "version": "3.11.5"
  }
 },
 "nbformat": 4,
 "nbformat_minor": 1
}
